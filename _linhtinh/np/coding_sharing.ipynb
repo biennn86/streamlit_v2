{
 "cells": [
  {
   "cell_type": "markdown",
   "metadata": {},
   "source": [
    "# Numpy"
   ]
  },
  {
   "cell_type": "markdown",
   "metadata": {},
   "source": [
    "## 1. Khởi tạo mảng trong numpy"
   ]
  },
  {
   "cell_type": "code",
   "execution_count": 2,
   "metadata": {},
   "outputs": [
    {
     "name": "stdout",
     "output_type": "stream",
     "text": [
      "[[1. 2.]\n",
      " [3. 4.]]\n"
     ]
    }
   ],
   "source": [
    "import numpy as np\n",
    "\n",
    "a = np.array([\n",
    "    [1, 2],\n",
    "    [3, 4],\n",
    "], dtype=int)\n",
    "\n",
    "# Đổi kiểu dữ liệu sau khi khởi tạo mảng\n",
    "a = a.astype(np.float32)\n",
    "print(a)"
   ]
  },
  {
   "cell_type": "markdown",
   "metadata": {},
   "source": [
    "### 1.2 Khởi tạo mảng ngẫu nhiên"
   ]
  },
  {
   "cell_type": "code",
   "execution_count": 3,
   "metadata": {},
   "outputs": [
    {
     "name": "stdout",
     "output_type": "stream",
     "text": [
      "mảng r:  \n",
      " [[-1.77224934 -0.39412742 -1.14834996]\n",
      " [-0.52880521 -1.17519634  1.17403418]]\n"
     ]
    }
   ],
   "source": [
    "r = np.random.randn(2, 3)\n",
    "print('mảng r: ', '\\n', r)"
   ]
  },
  {
   "cell_type": "markdown",
   "metadata": {},
   "source": [
    "#### Loc: Trung bình chính, scale: Phương sai"
   ]
  },
  {
   "cell_type": "code",
   "execution_count": 4,
   "metadata": {},
   "outputs": [
    {
     "name": "stdout",
     "output_type": "stream",
     "text": [
      "t [[-1.58776828 -3.18631775 -1.99203757]\n",
      " [ 1.00784611 -0.34398373 -1.07232497]]\n"
     ]
    }
   ],
   "source": [
    "t = np.random.normal(loc=1, scale=2, size=(2, 3))\n",
    "print('t', t)"
   ]
  },
  {
   "cell_type": "markdown",
   "metadata": {},
   "source": [
    "#### low: tạo ra một ma trận phân bổ đều từ low tới high"
   ]
  },
  {
   "cell_type": "code",
   "execution_count": 5,
   "metadata": {},
   "outputs": [
    {
     "name": "stdout",
     "output_type": "stream",
     "text": [
      "e [[-0.96586614  0.31423763  0.6889771 ]\n",
      " [ 0.88988512  0.19315835 -0.48828379]]\n"
     ]
    }
   ],
   "source": [
    "e = np.random.uniform(low=-1, high=1, size=(2, 3))\n",
    "print('e', e)"
   ]
  },
  {
   "cell_type": "markdown",
   "metadata": {},
   "source": [
    "#### Tạo 1 ma trận ngẩu nhiên, các phần tử bên trong là int"
   ]
  },
  {
   "cell_type": "code",
   "execution_count": 6,
   "metadata": {},
   "outputs": [
    {
     "name": "stdout",
     "output_type": "stream",
     "text": [
      "q [[ 4  3 -5]\n",
      " [-1 -1  0]]\n"
     ]
    }
   ],
   "source": [
    "q = np.random.randint(low=-5, high=5, size=(2, 3))\n",
    "print('q', q)"
   ]
  },
  {
   "cell_type": "markdown",
   "metadata": {},
   "source": [
    "### 1.3 Lưu mảng trên numpy"
   ]
  },
  {
   "cell_type": "code",
   "execution_count": 7,
   "metadata": {},
   "outputs": [],
   "source": [
    "# S = np.random.randn(3, 3)\n",
    "#Save file ở dụng npy\n",
    "# np.save('S_npy', S)\n",
    "#Save file ở dụng txt\n",
    "# np.savetxt('S_txt.txt', S)"
   ]
  },
  {
   "cell_type": "markdown",
   "metadata": {},
   "source": [
    "### 1.4 Truy cập vào file mảng bằng numpy"
   ]
  },
  {
   "cell_type": "code",
   "execution_count": 8,
   "metadata": {},
   "outputs": [],
   "source": [
    "# V = np.load('S_npy.npy')\n",
    "# C = np.loadtxt('S_txt.txt')"
   ]
  },
  {
   "cell_type": "markdown",
   "metadata": {},
   "source": [
    "### 1.5 Convert mảng từ dataframe"
   ]
  },
  {
   "cell_type": "code",
   "execution_count": 9,
   "metadata": {},
   "outputs": [],
   "source": [
    "# df = pd.read_csv()\n",
    "#Chuyển từ df sang array numpy để xử lý\n",
    "# df.values()"
   ]
  },
  {
   "cell_type": "markdown",
   "metadata": {},
   "source": [
    "### 1.6 Truy cập mảng trên numpy"
   ]
  },
  {
   "cell_type": "code",
   "execution_count": 10,
   "metadata": {},
   "outputs": [
    {
     "name": "stdout",
     "output_type": "stream",
     "text": [
      "6\n",
      "[[5 6]\n",
      " [8 9]]\n",
      "[[3 4]\n",
      " [6 2]]\n"
     ]
    }
   ],
   "source": [
    "x = np.array([\n",
    "\t[1, 2, 3, 4],\n",
    "\t[4, 5, 6, 2],\n",
    "\t[7, 8, 9, 1],\n",
    "\t[2, 5, 1, 5]\n",
    "\t])\n",
    "\n",
    "#Truy cập vào phần tử thuộc dòng 1 cột 2\n",
    "print(x[1, 2])\n",
    "#Truy cập vào các dòng từ 1 đến 2 và các cột từ 1 đến 2\n",
    "print(x[1:3, 1:3])\n",
    "#Truy cập vào 2 dòng đầu tiên và 2 cột cuối cùng\n",
    "print(x[:2, -2:])"
   ]
  },
  {
   "cell_type": "markdown",
   "metadata": {},
   "source": [
    "### 1.7 Thay đổi shape của mảng"
   ]
  },
  {
   "cell_type": "code",
   "execution_count": 11,
   "metadata": {},
   "outputs": [
    {
     "name": "stdout",
     "output_type": "stream",
     "text": [
      "B Shape:  (12,)\n",
      "[[ 0  1  2  3  4  5]\n",
      " [ 6  7  8  9 10 11]]\n",
      "[[ 0  1  2  3  4  5]\n",
      " [ 6  7  8  9 10 11]]\n"
     ]
    }
   ],
   "source": [
    "B = np.array(np.arange(12))\n",
    "print('B Shape: ', B.shape)\n",
    "#--Mảng B là một mảng có độ dài là 12\n",
    "#Thay đổi mảng B thành 2 dòng và 6 cột \n",
    "#Để np tự tính số lượng cột B.reshape(4, -1)\n",
    "C = B.reshape(2, 6)\n",
    "print(C)\n",
    "# Cách 2: sử dụng numpy np.reshape()\n",
    "print(np.reshape(B, (2, 6)))"
   ]
  },
  {
   "cell_type": "markdown",
   "metadata": {},
   "source": [
    "## 2. Các hàm trên numpy"
   ]
  },
  {
   "cell_type": "code",
   "execution_count": 12,
   "metadata": {},
   "outputs": [],
   "source": [
    "### axis=1 tính theo dòng\n",
    "### axis=0 tính theo cột"
   ]
  },
  {
   "cell_type": "markdown",
   "metadata": {},
   "source": [
    "### 2.1 Hàm max, min"
   ]
  },
  {
   "cell_type": "code",
   "execution_count": 13,
   "metadata": {},
   "outputs": [
    {
     "name": "stdout",
     "output_type": "stream",
     "text": [
      "[[ 0  1  2  3  4  5]\n",
      " [ 6  7  8  9 10 11]]\n",
      "0\n",
      "0\n",
      "[0 6]\n",
      "[0 1 2 3 4 5]\n",
      "[ 5 11]\n",
      "[2.5 8.5]\n",
      "[15 51]\n"
     ]
    }
   ],
   "source": [
    "\n",
    "b = np.arange(12).reshape(2, -1)\n",
    "print(b)\n",
    "# Tìm ra phần tử nhỏ nhất trong B\n",
    "print(b.min())\n",
    "print(np.min(b))\n",
    "# Tìm phần tử nhỏ nhất của b theo dòng\n",
    "min_value_row = b.min(axis=1)\n",
    "print(min_value_row)\n",
    "# Tìm ra phần tử nhỏ nhất theo cột\n",
    "min_val_col = b.min(axis=0)\n",
    "print(min_val_col)\n",
    "# Tìm giá trị lớn nhất của b theo dòng\n",
    "max_val_row = b.max(axis=1)\n",
    "print(max_val_row)\n",
    "# Tìm giá trị trung bình của b theo dòng\n",
    "mean_val_row = b.mean(axis=1)\n",
    "print(mean_val_row)\n",
    "# Tính tổng giá trị của b theo dòng\n",
    "sum_val_row = b.sum(axis=1)\n",
    "print(sum_val_row)"
   ]
  },
  {
   "cell_type": "markdown",
   "metadata": {},
   "source": [
    "### 2.2 Hàm minimum, maximun: Tìm ra giá trị lớn nhất và nhỏ nhất ở cùng một vị trí giữa 2 mảng cùng kích thước. Kết quả trả về là một mảng có cùng kích thước nhưng có giá trị"
   ]
  },
  {
   "cell_type": "code",
   "execution_count": 14,
   "metadata": {},
   "outputs": [
    {
     "name": "stdout",
     "output_type": "stream",
     "text": [
      "Các phần tử maximum của a, b cùng index \n",
      " [[ 1  4  6]\n",
      " [ 2  7 10]]\n",
      "Các phần tử minimum của a, b cùng index \n",
      " [[0 3 5]\n",
      " [1 6 9]]\n"
     ]
    }
   ],
   "source": [
    "# hàm maximum\n",
    "a = np.array([\n",
    "\t[1, 3, 6],\n",
    "\t[2, 7, 9]\n",
    "\t])\n",
    "\n",
    "b = np.array([\n",
    "\t[0, 4, 5],\n",
    "\t[1, 6, 10]\n",
    "\t])\n",
    "\n",
    "# Tìm các phần tử maximum của a, và b cùng vị trí index\n",
    "print('Các phần tử maximum của a, b cùng index','\\n', np.maximum(a, b))\n",
    "# Tìm các phần tử minimum của a, và b cùng vị trí index\n",
    "print('Các phần tử minimum của a, b cùng index', '\\n', np.minimum(a, b))"
   ]
  },
  {
   "cell_type": "markdown",
   "metadata": {},
   "source": [
    "### 2.3 Hàm argmax và argmin thường xuyên được sử dụng trong machine learning vì chúng có tác dụng tìm ra các nhãn có xác suất là cao nhất. Tìm ra index có giá trí lớn nhất của véc tơ"
   ]
  },
  {
   "cell_type": "code",
   "execution_count": 15,
   "metadata": {},
   "outputs": [
    {
     "name": "stdout",
     "output_type": "stream",
     "text": [
      "1\n",
      "[[2 2]\n",
      " [2 1]\n",
      " [4 2]\n",
      " [1 4]]\n",
      "index có giá trị lớn nhất của a là:  2\n",
      "index có giá trị lớn nhất theo dòng của b là:  [0 0 0 1]\n",
      "index có giá trị lớn nhất theo cột của b là:  [2 3]\n"
     ]
    }
   ],
   "source": [
    "a = np.array([1, 5, 3, 2, 4])\n",
    "print(np.argmax(a))\n",
    "\n",
    "a = np.random.randint(1, 10, size=(10))\n",
    "b = np.random.randint(1, 5, size=(4,2))\n",
    "print(b)\n",
    "# Tìm ra index có giá trị lớn nhất\n",
    "print('index có giá trị lớn nhất của a là: ', np.argmax(a))\n",
    "print('index có giá trị lớn nhất theo dòng của b là: ', np.argmax(b, axis=1))\n",
    "print('index có giá trị lớn nhất theo cột của b là: ', np.argmax(b, axis=0))"
   ]
  },
  {
   "cell_type": "markdown",
   "metadata": {},
   "source": [
    "### 2.4 Hàm argsort: tìm ra index được sắp xếp theo số thứ tự tăng dần của một mảng hoặc một véc tơ"
   ]
  },
  {
   "cell_type": "code",
   "execution_count": 16,
   "metadata": {},
   "outputs": [
    {
     "name": "stdout",
     "output_type": "stream",
     "text": [
      "[[0 1]\n",
      " [1 0]\n",
      " [1 0]\n",
      " [0 1]]\n"
     ]
    }
   ],
   "source": [
    "# np.argsort(array, ascending, axis)\n",
    "\n",
    "print(np.argsort(b, axis=1))"
   ]
  },
  {
   "cell_type": "markdown",
   "metadata": {},
   "source": [
    "## 3. Các ma trận đặc biệt trong numpy"
   ]
  },
  {
   "cell_type": "markdown",
   "metadata": {},
   "source": [
    "### 3.1 ma trận đơn vị: là ma trận vuông có các phần tử trên đường chéo bằng 1 và các phần tử còn lại bằng 0. Đây là một ma trận rất đặc biệt vì tích của một ma trận khác với ma trân đơn vị sẽ bằng chính ma trận đó\n"
   ]
  },
  {
   "cell_type": "code",
   "execution_count": 17,
   "metadata": {},
   "outputs": [
    {
     "name": "stdout",
     "output_type": "stream",
     "text": [
      "[[1. 0. 0. 0. 0.]\n",
      " [0. 1. 0. 0. 0.]\n",
      " [0. 0. 1. 0. 0.]\n",
      " [0. 0. 0. 1. 0.]\n",
      " [0. 0. 0. 0. 1.]]\n",
      "[[1. 1. 1.]\n",
      " [1. 1. 1.]\n",
      " [1. 1. 1.]]\n"
     ]
    }
   ],
   "source": [
    "#khởi tạo ma trân đơn vị vơi shape 5x5\n",
    "i = np.identity(5, dtype=np.float16)\n",
    "print(i)\n",
    "\n",
    "#ma trận 1\n",
    "a = np.ones((3, 3), dtype=np.float32)\n",
    "print(a)"
   ]
  },
  {
   "cell_type": "code",
   "execution_count": 18,
   "metadata": {},
   "outputs": [
    {
     "name": "stdout",
     "output_type": "stream",
     "text": [
      "[[1. 1. 1.]\n",
      " [1. 1. 1.]]\n"
     ]
    }
   ],
   "source": [
    "#khởi tạo một ma trận có kích thước 2x3\n",
    "b = np.random.randn(2, 3)\n",
    "# khởi tạo ma trận 1 có kích thuocs 2x3\n",
    "z = np.ones_like(b)\n",
    "print(z)"
   ]
  },
  {
   "cell_type": "code",
   "execution_count": 19,
   "metadata": {},
   "outputs": [
    {
     "data": {
      "text/plain": [
       "array([[0., 0., 0.],\n",
       "       [0., 0., 0.],\n",
       "       [0., 0., 0.]])"
      ]
     },
     "execution_count": 19,
     "metadata": {},
     "output_type": "execute_result"
    }
   ],
   "source": [
    "#Ma trận 0\n",
    "#khởi tạo ma trận 0 có kích thước 3x3\n",
    "np.zeros((3, 3))"
   ]
  },
  {
   "cell_type": "code",
   "execution_count": 20,
   "metadata": {},
   "outputs": [
    {
     "data": {
      "text/plain": [
       "array([[0., 0., 0.],\n",
       "       [0., 0., 0.]])"
      ]
     },
     "execution_count": 20,
     "metadata": {},
     "output_type": "execute_result"
    }
   ],
   "source": [
    "#khởi tạo ma trận 0 có kích thước 2x3\n",
    "m = np.random.randn(2, 3)\n",
    "np.zeros_like(m)"
   ]
  },
  {
   "cell_type": "code",
   "execution_count": 21,
   "metadata": {},
   "outputs": [
    {
     "data": {
      "text/plain": [
       "array([[1, 0, 0, 0],\n",
       "       [0, 2, 0, 0],\n",
       "       [0, 0, 3, 0],\n",
       "       [0, 0, 0, 4]])"
      ]
     },
     "execution_count": 21,
     "metadata": {},
     "output_type": "execute_result"
    }
   ],
   "source": [
    "#ma trận đường chính\n",
    "np.diag(np.array([1, 2, 3, 4]))"
   ]
  },
  {
   "cell_type": "code",
   "execution_count": 22,
   "metadata": {},
   "outputs": [
    {
     "name": "stdout",
     "output_type": "stream",
     "text": [
      "[[0 1 2]\n",
      " [3 4 5]\n",
      " [6 7 8]]\n",
      "đường chính của a là:  \n",
      " [0 4 8]\n"
     ]
    }
   ],
   "source": [
    "#print đường chéo chính trong mảng ra\n",
    "g = np.arange(9).reshape(3, 3)\n",
    "print(g)\n",
    "print('đường chính của a là: ', '\\n', np.diag(g))"
   ]
  },
  {
   "cell_type": "markdown",
   "metadata": {},
   "source": [
    "## 4. Các phép toán và toán tử trên ma trận"
   ]
  },
  {
   "cell_type": "markdown",
   "metadata": {},
   "source": [
    "### 4.1 Phép toán chuyển vị: Phép toán chuyển vị một ma trận mxn sẽ biến thành một ma trận kích thước nxm sao cho các dòng của ma trận ban đầu sẽ biến thành cột của ma trận chuyển vị"
   ]
  },
  {
   "cell_type": "code",
   "execution_count": 23,
   "metadata": {},
   "outputs": [
    {
     "name": "stdout",
     "output_type": "stream",
     "text": [
      "mảng ban đầu:  \n",
      " [[ 0  1  2  3]\n",
      " [ 4  5  6  7]\n",
      " [ 8  9 10 11]]\n",
      "Chuyển vị mảng A:  \n",
      " [[ 0  4  8]\n",
      " [ 1  5  9]\n",
      " [ 2  6 10]\n",
      " [ 3  7 11]]\n"
     ]
    }
   ],
   "source": [
    "#phép chuyển vị\n",
    "A = np.arange(12).reshape(3, -1)\n",
    "print('mảng ban đầu: ', '\\n', A)\n",
    "print('Chuyển vị mảng A: ', '\\n', A.T)"
   ]
  },
  {
   "cell_type": "markdown",
   "metadata": {},
   "source": [
    "### 4.2 Ma trận nghịch đảo: ma trận nghịch đảo của một ma trận vuông A khả nghịch là một ma trận được ký hiệu A^^-1. Ma trận này có tích với A là một ma trận đơn vị. A^^-1A = AA^^-1 = I"
   ]
  },
  {
   "cell_type": "code",
   "execution_count": 24,
   "metadata": {},
   "outputs": [
    {
     "name": "stdout",
     "output_type": "stream",
     "text": [
      "Inverse A:  \n",
      " [[-0.24609375  0.03125     0.23046875]\n",
      " [ 0.0390625   0.3125     -0.1953125 ]\n",
      " [ 0.57421875 -0.40625     0.12890625]]\n"
     ]
    },
    {
     "data": {
      "text/plain": [
       "array([[ 1.00000000e+00,  0.00000000e+00, -4.99600361e-16],\n",
       "       [ 6.66133815e-16,  1.00000000e+00, -5.82867088e-16],\n",
       "       [ 0.00000000e+00, -3.33066907e-16,  1.00000000e+00]])"
      ]
     },
     "execution_count": 24,
     "metadata": {},
     "output_type": "execute_result"
    }
   ],
   "source": [
    "#Tính ma trận nghịch đảo của A\n",
    "# pinv là pseudo-inverse of a matrix\n",
    "A = np.array([\n",
    "    [1, 2.5, 2],\n",
    "    [3, 4.2, 1],\n",
    "    [5, 2.1, 2]\n",
    "])\n",
    "\n",
    "A_inv = np.linalg.pinv(A)\n",
    "print('Inverse A: ', '\\n', A_inv)\n",
    "#Tích của ma trận A với nghịch đảo của nó là một ma trận đơn vị\n",
    "A.dot(A_inv)"
   ]
  },
  {
   "cell_type": "markdown",
   "metadata": {},
   "source": [
    "### 4.3 Hạng (rank) của ma trận: Để tìm hiểu hạng ma trận ta làm quen với khái niệm độc lập tuyến tính của hệ véc tơ.\n",
    "Hạng của ma trận là số lượng các chiều trong không gian véc tơ được sinh ra bởi các cột (hoặc dòng) của ma trận A. Nó chính bằng số lượng lớn nhất của các cột (hoặc dòng) độc lập tuyến tính của ma trận A\n",
    "np.linalg.matrix_rank(A)"
   ]
  },
  {
   "cell_type": "markdown",
   "metadata": {},
   "source": [
    "### 4.4 Các phép cộng, trừ: Chúng ta có thể cộng 2 ma trận có cùng kích thước. Các phần tử ở cùng một vị trí ở cả hai ma trận sẽ được cộng hoặc trừ với nhau."
   ]
  },
  {
   "cell_type": "code",
   "execution_count": 25,
   "metadata": {},
   "outputs": [
    {
     "name": "stdout",
     "output_type": "stream",
     "text": [
      "Ma trận A:  \n",
      " [[9 2 9 5]\n",
      " [9 3 2 7]\n",
      " [7 4 2 7]]\n",
      "Ma trận B:  \n",
      " [[9 6 3 9]\n",
      " [7 3 4 5]\n",
      " [5 5 6 5]]\n",
      "Trừ 2 ma trận \n",
      " [[ 0 -4  6 -4]\n",
      " [ 2  0 -2  2]\n",
      " [ 2 -1 -4  2]]\n",
      "Cộng 2 ma trận \n",
      " [[18  8 12 14]\n",
      " [16  6  6 12]\n",
      " [12  9  8 12]]\n",
      "Nhân 2 ma trận \n",
      " [[81 12 27 45]\n",
      " [63  9  8 35]\n",
      " [35 20 12 35]]\n",
      "Ma trận A nhân với scael \n",
      " [[45 10 45 25]\n",
      " [45 15 10 35]\n",
      " [35 20 10 35]]\n"
     ]
    }
   ],
   "source": [
    "A = np.random.randint(2, 10, size=(3, 4))\n",
    "B = np.random.randint(3, 10, size=(3, 4))\n",
    "\n",
    "print('Ma trận A: ', '\\n', A)\n",
    "print('Ma trận B: ', '\\n', B)\n",
    "print('Trừ 2 ma trận', '\\n', A - B)\n",
    "print('Cộng 2 ma trận', '\\n', A + B)\n",
    "print('Nhân 2 ma trận', '\\n', A * B)\n",
    "print('Ma trận A nhân với scael', '\\n', A * 5)\n"
   ]
  },
  {
   "cell_type": "markdown",
   "metadata": {},
   "source": [
    "### Bài tập Numpy"
   ]
  },
  {
   "cell_type": "markdown",
   "metadata": {},
   "source": [
    "#### 1. Tạo một mảng một chiều từ 0 đến 9"
   ]
  },
  {
   "cell_type": "code",
   "execution_count": 26,
   "metadata": {},
   "outputs": [
    {
     "name": "stdout",
     "output_type": "stream",
     "text": [
      "[0 1 2 3 4 5 6 7 8 9]\n"
     ]
    }
   ],
   "source": [
    "a = np.arange(10)\n",
    "print(a)"
   ]
  },
  {
   "cell_type": "markdown",
   "metadata": {},
   "source": [
    "#### 2. Tạo một ma trận 3x3 với các giá trị từ 0 đến 8"
   ]
  },
  {
   "cell_type": "code",
   "execution_count": 27,
   "metadata": {},
   "outputs": [
    {
     "name": "stdout",
     "output_type": "stream",
     "text": [
      "[[0 1 2]\n",
      " [3 4 5]\n",
      " [6 7 8]]\n"
     ]
    }
   ],
   "source": [
    "b = np.random.randint(0, 8, size=(3,3))\n",
    "b = np.arange(9).reshape(3,3)\n",
    "print(b)"
   ]
  },
  {
   "cell_type": "markdown",
   "metadata": {},
   "source": [
    "#### 3. Tính tổng, trung bình, giá trị lớn nhất, giá trị nhỏ nhất của mảng"
   ]
  },
  {
   "cell_type": "code",
   "execution_count": 28,
   "metadata": {},
   "outputs": [
    {
     "name": "stdout",
     "output_type": "stream",
     "text": [
      "sum:  45\n",
      "mean:  4.5\n",
      "max:  9\n",
      "min:  0\n"
     ]
    }
   ],
   "source": [
    "a = np.arange(10)\n",
    "\n",
    "print('sum: ', np.sum(a))\n",
    "print('mean: ', np.mean(a))\n",
    "print('max: ', np.max(a))\n",
    "print('min: ', np.min(a))"
   ]
  },
  {
   "cell_type": "markdown",
   "metadata": {},
   "source": [
    "#### 4. Tính tổng các cột và hàng của ma trận 3x3"
   ]
  },
  {
   "cell_type": "code",
   "execution_count": 29,
   "metadata": {},
   "outputs": [
    {
     "name": "stdout",
     "output_type": "stream",
     "text": [
      "mảng 3x3:  \n",
      " [[ 0  1  2  3  4]\n",
      " [ 5  6  7  8  9]\n",
      " [10 11 12 13 14]]\n",
      "tổng theo hàng:  [10 35 60]\n",
      "tổng theo cột:  [15 18 21 24 27]\n"
     ]
    }
   ],
   "source": [
    "b = np.arange(15).reshape(3, -1)\n",
    "\n",
    "print('mảng 3x3: ', '\\n', b)\n",
    "print('tổng theo hàng: ', np.sum(b, axis=1))\n",
    "print('tổng theo cột: ', np.sum(b, axis=0))"
   ]
  },
  {
   "cell_type": "markdown",
   "metadata": {},
   "source": [
    "#### 5. Truy cập phần tử thứ 5 của mảng một chiều"
   ]
  },
  {
   "cell_type": "code",
   "execution_count": 30,
   "metadata": {},
   "outputs": [
    {
     "name": "stdout",
     "output_type": "stream",
     "text": [
      "mảng một chiều:  [0 1 2 3 4 5 6 7 8 9]\n",
      "phần tử thứ 5:  4\n"
     ]
    }
   ],
   "source": [
    "a = np.arange(10)\n",
    "\n",
    "print('mảng một chiều: ', a)\n",
    "print('phần tử thứ 5: ', a[4])"
   ]
  },
  {
   "cell_type": "markdown",
   "metadata": {},
   "source": [
    "#### 6. Lây phần slice 2x2 từ ma trận 3x3"
   ]
  },
  {
   "cell_type": "code",
   "execution_count": 31,
   "metadata": {},
   "outputs": [
    {
     "name": "stdout",
     "output_type": "stream",
     "text": [
      "mảng 3x3:  \n",
      " [[ 7 12  2  0  6]\n",
      " [14  7 14  3  3]\n",
      " [ 1  0 12  3 14]]\n",
      "slice 2x2:  \n",
      " [[ 7 12]\n",
      " [14  7]]\n"
     ]
    }
   ],
   "source": [
    "b = np.random.randint(0, 15, size=(3,5))\n",
    "\n",
    "print('mảng 3x3: ', '\\n', b)\n",
    "print('slice 2x2: ', '\\n', b[:2, 0:2])"
   ]
  },
  {
   "cell_type": "markdown",
   "metadata": {},
   "source": [
    "#### 7. Tính căn bậc 2 của mỗi phần tử trong mảng một chiều"
   ]
  },
  {
   "cell_type": "code",
   "execution_count": 32,
   "metadata": {},
   "outputs": [
    {
     "name": "stdout",
     "output_type": "stream",
     "text": [
      "căn bậc 2 của mảng một chiều:  \n",
      " [0.         1.         1.41421356 1.73205081 2.         2.23606798\n",
      " 2.44948974 2.64575131 2.82842712 3.        ]\n"
     ]
    }
   ],
   "source": [
    "a = np.arange(10)\n",
    "print('căn bậc 2 của mảng một chiều: ', '\\n', np.sqrt(a))"
   ]
  },
  {
   "cell_type": "markdown",
   "metadata": {},
   "source": [
    "#### 8. Tính lũy thừa 2 của mỗi phần tử trong ma trận 3x3"
   ]
  },
  {
   "cell_type": "code",
   "execution_count": 33,
   "metadata": {},
   "outputs": [
    {
     "name": "stdout",
     "output_type": "stream",
     "text": [
      "mảng 3x3:  \n",
      " [[0 1 2]\n",
      " [3 4 5]\n",
      " [6 7 8]]\n",
      "lũy thừa 2 mảng 3x3:  \n",
      " [[ 0  1  4]\n",
      " [ 9 16 25]\n",
      " [36 49 64]]\n"
     ]
    }
   ],
   "source": [
    "mang_3x3 = np.arange(9).reshape(3,3)\n",
    "print('mảng 3x3: ', '\\n', mang_3x3)\n",
    "print('lũy thừa 2 mảng 3x3: ', '\\n', np.power(mang_3x3, 2))"
   ]
  },
  {
   "cell_type": "markdown",
   "metadata": {},
   "source": [
    "#### 9. Tính tích vô hướng của 2 ma trận (dot product)"
   ]
  },
  {
   "cell_type": "code",
   "execution_count": null,
   "metadata": {},
   "outputs": [],
   "source": []
  },
  {
   "cell_type": "markdown",
   "metadata": {},
   "source": [
    "#### 10. Tính ma trận chuyển vị của ma trận 3x3"
   ]
  },
  {
   "cell_type": "code",
   "execution_count": 34,
   "metadata": {},
   "outputs": [
    {
     "name": "stdout",
     "output_type": "stream",
     "text": [
      "ma trận 3x3:  \n",
      " [[0 1 2]\n",
      " [3 4 5]\n",
      " [6 7 8]]\n",
      "Ma trận chuyển vị cách 1:  \n",
      " [[0 3 6]\n",
      " [1 4 7]\n",
      " [2 5 8]]\n",
      "Ma trận chuyển vị cách 2:  \n",
      " [[0 3 6]\n",
      " [1 4 7]\n",
      " [2 5 8]]\n"
     ]
    }
   ],
   "source": [
    "mang_3x3 = np.arange(9).reshape(3,3)\n",
    "print('ma trận 3x3: ', '\\n', mang_3x3)\n",
    "transpose = np.transpose(mang_3x3)\n",
    "trans = mang_3x3.T\n",
    "print('Ma trận chuyển vị cách 1: ', '\\n', transpose)\n",
    "print('Ma trận chuyển vị cách 2: ', '\\n', trans)"
   ]
  },
  {
   "cell_type": "markdown",
   "metadata": {},
   "source": [
    "#### 11. Lấy phần tử lớn hơn 5 từ mảng một chiều"
   ]
  },
  {
   "cell_type": "code",
   "execution_count": 35,
   "metadata": {},
   "outputs": [
    {
     "name": "stdout",
     "output_type": "stream",
     "text": [
      "các phần tử lớn hon 5:  \n",
      " [6 7 8 9]\n"
     ]
    }
   ],
   "source": [
    "a = np.arange(10)\n",
    "arr_above_5 = a[a > 5]\n",
    "print('các phần tử lớn hon 5: ', '\\n', arr_above_5)"
   ]
  },
  {
   "cell_type": "markdown",
   "metadata": {},
   "source": [
    "#### 12. Lấy các phần tử trong ma trận 3x3 lớn hơn giá trị trung bình của ma trận"
   ]
  },
  {
   "cell_type": "code",
   "execution_count": 36,
   "metadata": {},
   "outputs": [
    {
     "name": "stdout",
     "output_type": "stream",
     "text": [
      "mảng nguồn:  \n",
      " [[12  1 12  1  3]\n",
      " [ 1  4  5  8  5]\n",
      " [ 6 12  6 13  5]]\n",
      "giá trị trung bình của mảng:  6.266666666666667\n",
      "các phần tử lớn hơn giá trị trung bình của ma trận:  \n",
      " [12 12  8 12 13]\n"
     ]
    }
   ],
   "source": [
    "mang_3x3 = np.random.randint(0, 15, size=(3,5))\n",
    "arr_above_mean = mang_3x3[mang_3x3 > np.mean(mang_3x3)]\n",
    "print('mảng nguồn: ', '\\n', mang_3x3)\n",
    "print('giá trị trung bình của mảng: ', np.mean(mang_3x3))\n",
    "print('các phần tử lớn hơn giá trị trung bình của ma trận: ', '\\n', arr_above_mean)"
   ]
  },
  {
   "cell_type": "markdown",
   "metadata": {},
   "source": [
    "#### 13. Tính tích vô hướng của mỗi hàng trong ma trận 3x3 với mảng một chiều [1, 2, 3]"
   ]
  },
  {
   "cell_type": "markdown",
   "metadata": {},
   "source": [
    "#### 14. Tạo một ma trận 5x5 với các giá trị ngẫu nhiên từ phân phối chuẩn (normal distribution)"
   ]
  },
  {
   "cell_type": "code",
   "execution_count": 37,
   "metadata": {},
   "outputs": [
    {
     "name": "stdout",
     "output_type": "stream",
     "text": [
      "ma trận ngẫu nhiên 5x5:  \n",
      " [[-1.0435857  -1.88617159  0.12650987  0.0769673  -0.73474736]\n",
      " [ 0.31731138  0.66589776 -1.47466715  2.61644491  0.60892021]\n",
      " [ 0.38520596  0.61735887  0.46730073  2.0667314  -0.20818301]\n",
      " [-0.75787697 -1.00097979  0.10958583  0.96768464 -0.06753173]\n",
      " [-1.20957607  0.15827469  1.13337758 -2.11770751  0.50195841]]\n"
     ]
    }
   ],
   "source": [
    "random_mtx = np.random.randn(5, 5)\n",
    "print('ma trận ngẫu nhiên 5x5: ', '\\n', random_mtx)"
   ]
  },
  {
   "cell_type": "markdown",
   "metadata": {},
   "source": [
    "#### 15. Tính trung bình và độ lệch chuẩn của ma trận"
   ]
  },
  {
   "cell_type": "code",
   "execution_count": 38,
   "metadata": {},
   "outputs": [
    {
     "name": "stdout",
     "output_type": "stream",
     "text": [
      "giá trị trung bình:  \n",
      " 4.5\n",
      "độ lệch chuẩn:  \n",
      " 2.8722813232690143\n"
     ]
    }
   ],
   "source": [
    "a = np.arange(10)\n",
    "print('giá trị trung bình: ', '\\n', np.mean(a))\n",
    "print('độ lệch chuẩn: ', '\\n', np.std(a))"
   ]
  },
  {
   "cell_type": "markdown",
   "metadata": {},
   "source": [
    "#### 16. Reshape mảng một chiều thành một ma trận 2x5"
   ]
  },
  {
   "cell_type": "code",
   "execution_count": 39,
   "metadata": {},
   "outputs": [
    {
     "data": {
      "text/plain": [
       "array([[0, 1, 2, 3, 4],\n",
       "       [5, 6, 7, 8, 9]])"
      ]
     },
     "execution_count": 39,
     "metadata": {},
     "output_type": "execute_result"
    }
   ],
   "source": [
    "a = np.arange(10)\n",
    "a.reshape(2, 5)"
   ]
  },
  {
   "cell_type": "markdown",
   "metadata": {},
   "source": [
    "#### 17. Ghép đôi 2 ma trận 2x3 và 2x3 để tạo ma trận 2x6"
   ]
  },
  {
   "cell_type": "code",
   "execution_count": 40,
   "metadata": {},
   "outputs": [
    {
     "name": "stdout",
     "output_type": "stream",
     "text": [
      "cách 1:  \n",
      " [[ 8  8  8 14 18 12]\n",
      " [ 6  6  0 14 14 13]]\n"
     ]
    }
   ],
   "source": [
    "mtx_2x3_1 = np.random.randint(low=0, high=9, size=(2, 3))\n",
    "mtx_2x3_2 = np.random.randint(low=10, high=19, size=(2, 3))\n",
    "noi_mtx_1 = np.concatenate((mtx_2x3_1, mtx_2x3_2), axis=1)\n",
    "print('cách 1: ', '\\n', noi_mtx_1)"
   ]
  },
  {
   "cell_type": "markdown",
   "metadata": {},
   "source": [
    "#### 18. Tính định thức của ma trận 3x3"
   ]
  },
  {
   "cell_type": "code",
   "execution_count": 41,
   "metadata": {},
   "outputs": [
    {
     "name": "stdout",
     "output_type": "stream",
     "text": [
      "định thức của ma trận 3x3:  \n",
      " 0.0\n"
     ]
    }
   ],
   "source": [
    "mang_3x3 = np.arange(9).reshape(3,3)\n",
    "dinhthuc = np.linalg.det(mang_3x3)\n",
    "print('định thức của ma trận 3x3: ', '\\n', dinhthuc)"
   ]
  }
 ],
 "metadata": {
  "kernelspec": {
   "display_name": "env",
   "language": "python",
   "name": "python3"
  },
  "language_info": {
   "codemirror_mode": {
    "name": "ipython",
    "version": 3
   },
   "file_extension": ".py",
   "mimetype": "text/x-python",
   "name": "python",
   "nbconvert_exporter": "python",
   "pygments_lexer": "ipython3",
   "version": "3.11.2"
  }
 },
 "nbformat": 4,
 "nbformat_minor": 2
}
